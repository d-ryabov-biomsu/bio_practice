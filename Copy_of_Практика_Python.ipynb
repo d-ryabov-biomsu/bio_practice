{
  "nbformat": 4,
  "nbformat_minor": 0,
  "metadata": {
    "colab": {
      "name": "Copy of Практика_Python.ipynb",
      "provenance": [],
      "collapsed_sections": []
    },
    "kernelspec": {
      "name": "python3",
      "display_name": "Python 3"
    },
    "language_info": {
      "name": "python"
    }
  },
  "cells": [
    {
      "cell_type": "markdown",
      "source": [
        "#Практическое упражнение\n",
        "\n",
        "1. Создайте репозиторий в своем Github.\n",
        "2. Склонируйте репозиторий на локальный компьютер для дальнейшей работы.\n",
        "3. Скачайте данный ноутбук и выполните задание (можно в Colab).\n",
        "4. Положите готовый ноутбук в проект и закомитьте изменения (в т.ч. залейте изменения в репозиторий Github)."
      ],
      "metadata": {
        "id": "f8TS6QSGMj4G"
      }
    },
    {
      "cell_type": "markdown",
      "metadata": {
        "id": "4_iKSgoL5MhM"
      },
      "source": [
        "###Задача 1\n",
        "Имеется последовательность кодирующей цепочки ДНК `aagaatgtatatgtctgacacgttagcctggtgactaagtagtaatactcaatgggcggttaaagcgc`. \n",
        "\n",
        "1) выведите количество символов"
      ]
    },
    {
      "cell_type": "code",
      "source": [
        "seq = 'aagaatgtatatgtctgacacgttagcctggtgactaagtagtaatactcaatgggcggttaaagcgc'\n",
        "print(len(seq))"
      ],
      "metadata": {
        "id": "fB7V-Pl9OOnq",
        "colab": {
          "base_uri": "https://localhost:8080/"
        },
        "outputId": "358cd299-e4d9-4bd2-ef29-af948a428f4d"
      },
      "execution_count": 2,
      "outputs": [
        {
          "output_type": "stream",
          "name": "stdout",
          "text": [
            "68\n"
          ]
        }
      ]
    },
    {
      "cell_type": "markdown",
      "metadata": {
        "id": "sYfvnAvM6VIX"
      },
      "source": [
        "2) выведите символы в последовательности начиная с 2 по 15"
      ]
    },
    {
      "cell_type": "code",
      "source": [
        "print(seq[2:15])"
      ],
      "metadata": {
        "id": "bnfi1PBFOPD3",
        "colab": {
          "base_uri": "https://localhost:8080/"
        },
        "outputId": "4d7665c8-af9c-4622-eb1d-e4c4c8e1c411"
      },
      "execution_count": 3,
      "outputs": [
        {
          "output_type": "stream",
          "name": "stdout",
          "text": [
            "gaatgtatatgtc\n"
          ]
        }
      ]
    },
    {
      "cell_type": "markdown",
      "metadata": {
        "id": "4xIXQB8w6ZJE"
      },
      "source": [
        "3) выведите последовательность в обратном порядке"
      ]
    },
    {
      "cell_type": "code",
      "execution_count": 4,
      "metadata": {
        "id": "FyRjV6-LLYEc",
        "colab": {
          "base_uri": "https://localhost:8080/"
        },
        "outputId": "110b7489-03d5-478b-ce67-7a8d6a36099d"
      },
      "outputs": [
        {
          "output_type": "stream",
          "name": "stdout",
          "text": [
            "cgcgaaattggcgggtaactcataatgatgaatcagtggtccgattgcacagtctgtatatgtaagaa\n"
          ]
        }
      ],
      "source": [
        "print(seq[::-1])"
      ]
    },
    {
      "cell_type": "markdown",
      "metadata": {
        "id": "mCtj_VJurcNh"
      },
      "source": [
        "4) найдите количество вхождения каждого нуклеотида в последовательность"
      ]
    },
    {
      "cell_type": "code",
      "source": [
        "bases = {name: 0 for name in 'atgc'}\n",
        "for base in seq:\n",
        "  if base == 'a':\n",
        "    bases[base] +=1\n",
        "  elif base == 't':\n",
        "    bases[base] += 1\n",
        "  elif base == 'g':\n",
        "    bases[base] += 1\n",
        "  else:\n",
        "    bases[base] += 1\n",
        "\n",
        "for base in bases:\n",
        "  print(f\"{base} = {bases[base]}\")\n"
      ],
      "metadata": {
        "id": "fmP3b8OJOyWm",
        "colab": {
          "base_uri": "https://localhost:8080/"
        },
        "outputId": "0ae65753-86ad-4f97-aded-63ecd9376949"
      },
      "execution_count": 13,
      "outputs": [
        {
          "output_type": "stream",
          "name": "stdout",
          "text": [
            "a = 21\n",
            "t = 18\n",
            "g = 18\n",
            "c = 11\n"
          ]
        }
      ]
    },
    {
      "cell_type": "markdown",
      "metadata": {
        "id": "NuB8szC26rGN"
      },
      "source": [
        "###Задача 2\n",
        "Имеется последовательность кодирующей цепочки ДНК `acgttaattagcagctgacggagtaatccccaaacctggagacgatgtat`.\n",
        "\n",
        "1) Создайте словарь транскрипции нуклеотидов ДНК в РНК"
      ]
    },
    {
      "cell_type": "code",
      "source": [
        "seq = 'acgttaattagcagctgacggagtaatccccaaacctggagacgatgtat'\n",
        "trans_dict = {dna: rna for dna, rna in zip('atgc', 'uacg')}\n",
        "print(trans_dict)"
      ],
      "metadata": {
        "id": "QZuFzhqyOW-l",
        "colab": {
          "base_uri": "https://localhost:8080/"
        },
        "outputId": "1b4b3bc1-c623-45bd-9183-c8862d7810ad"
      },
      "execution_count": 16,
      "outputs": [
        {
          "output_type": "stream",
          "name": "stdout",
          "text": [
            "{'a': 'u', 't': 'a', 'g': 'c', 'c': 'g'}\n"
          ]
        }
      ]
    },
    {
      "cell_type": "markdown",
      "metadata": {
        "id": "K3lXVQkj7Yyp"
      },
      "source": [
        "2) Найдите последовательность РНК, которая образуется в результате транскрипции"
      ]
    },
    {
      "cell_type": "code",
      "source": [
        "rna_seq = ''\n",
        "for base in seq:\n",
        "  rna_seq += trans_dict[base]\n",
        "\n",
        "print(rna_seq)\n"
      ],
      "metadata": {
        "id": "DCe_LUwROXS9",
        "colab": {
          "base_uri": "https://localhost:8080/"
        },
        "outputId": "4c9f439e-700a-4399-e988-676303c39e54"
      },
      "execution_count": 17,
      "outputs": [
        {
          "output_type": "stream",
          "name": "stdout",
          "text": [
            "ugcaauuaaucgucgacugccucauuagggguuuggaccucugcuacaua\n"
          ]
        }
      ]
    },
    {
      "cell_type": "markdown",
      "metadata": {
        "id": "jxHxzn-ZqX9x"
      },
      "source": [
        "###Задача 3\n",
        "Выведите все четные числа из списка \n",
        "\n",
        "```\n",
        "numbers = [    \n",
        "    386, 462, 47, 418, 907, 344, 236, 375, 823, 566, 597, 978, 328, 615, 953, 345, \n",
        "    399, 162, 758, 219, 918, 237, 412, 566, 826, 248, 866, 950, 626, 949, 687, 217, \n",
        "    815, 67, 104, 58, 512, 24, 892, 894, 767, 553, 81, 379, 843, 831, 445, 742, 717, \n",
        "    958,743, 527\n",
        "    ]\n",
        "```\n",
        "\n",
        "в том же порядке, прекратите вывод, как только любое из чисел будет меньше 237"
      ]
    },
    {
      "cell_type": "code",
      "source": [
        "numbers = [    \n",
        "    386, 462, 47, 418, 907, 344, 236, 375, 823, 566, 597, 978, 328, 615, 953, 345, \n",
        "    399, 162, 758, 219, 918, 237, 412, 566, 826, 248, 866, 950, 626, 949, 687, 217, \n",
        "    815, 67, 104, 58, 512, 24, 892, 894, 767, 553, 81, 379, 843, 831, 445, 742, 717, \n",
        "    958,743, 527\n",
        "    ]\n",
        "for "
      ],
      "metadata": {
        "id": "v4vWigO_PN3x",
        "colab": {
          "base_uri": "https://localhost:8080/",
          "height": 132
        },
        "outputId": "ee6a28d1-d1f5-4723-a809-af2d09a6ac2f"
      },
      "execution_count": 20,
      "outputs": [
        {
          "output_type": "error",
          "ename": "SyntaxError",
          "evalue": "ignored",
          "traceback": [
            "\u001b[0;36m  File \u001b[0;32m\"<ipython-input-20-728cea9604e4>\"\u001b[0;36m, line \u001b[0;32m7\u001b[0m\n\u001b[0;31m    result = list(map(lambda x: if x % 2 == 0 and x >= 237 x, numbers))\u001b[0m\n\u001b[0m                                 ^\u001b[0m\n\u001b[0;31mSyntaxError\u001b[0m\u001b[0;31m:\u001b[0m invalid syntax\n"
          ]
        }
      ]
    },
    {
      "cell_type": "markdown",
      "metadata": {
        "id": "BZUnNYScmCRD"
      },
      "source": [
        "###Задача 4\n",
        "Напишите программу, которая удалит дубликаты из списка"
      ]
    },
    {
      "cell_type": "code",
      "metadata": {
        "id": "bj2evCuumEnz"
      },
      "source": [
        "test_list=['Eeny', 'meeny', 'miney', 'moe', 'Catch', 'a', 'tiger', 'by', 'his', 'toe', 'If', 'he', 'squeals', 'let', 'him', 'go', 'Eeny', 'meeny', 'miney', 'moe']"
      ],
      "execution_count": null,
      "outputs": []
    },
    {
      "cell_type": "code",
      "source": [
        ""
      ],
      "metadata": {
        "id": "_nS3qTKhPY80"
      },
      "execution_count": null,
      "outputs": []
    },
    {
      "cell_type": "markdown",
      "metadata": {
        "id": "VZEJYMjUpJCQ"
      },
      "source": [
        "###Задача 5\n",
        "Сложите значения в словарях, согласно ключам\n",
        "\n",
        "```\n",
        "d1 = {'a': 100, 'b': 200, 'c':300}\n",
        "d2 = {'a': 300, 'b': 200, 'd':400}\n",
        "\n",
        "Ожидаемый результат: {'a': 400, 'b': 400, 'd': 400, 'c': 300}\n",
        "```\n"
      ]
    },
    {
      "cell_type": "code",
      "source": [
        ""
      ],
      "metadata": {
        "id": "LXMrGttHPeEh"
      },
      "execution_count": null,
      "outputs": []
    },
    {
      "cell_type": "markdown",
      "source": [
        "###Задача 6\n",
        "Имеется последовательность кодирующей цепочки ДНК `aagaatgtatatgtctgacacgttagcctggtgactaagtagtaatactcaatgggcggttaaagcgc`.\n",
        "\n",
        "Напишите функцию, которая будет принимать один параметр на вход - последовательность ДНК в виде строки, и возвращать количество вхождения каждого нуклеотида в нее в виде словаря."
      ],
      "metadata": {
        "id": "bmU7ngzdPx1m"
      }
    },
    {
      "cell_type": "code",
      "source": [
        ""
      ],
      "metadata": {
        "id": "K8t3hIdcQDrY"
      },
      "execution_count": null,
      "outputs": []
    }
  ]
}