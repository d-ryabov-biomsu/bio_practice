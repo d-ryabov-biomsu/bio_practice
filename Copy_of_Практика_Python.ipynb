{
  "nbformat": 4,
  "nbformat_minor": 0,
  "metadata": {
    "colab": {
      "name": "Copy of Практика_Python.ipynb",
      "provenance": [],
      "collapsed_sections": []
    },
    "kernelspec": {
      "name": "python3",
      "display_name": "Python 3"
    },
    "language_info": {
      "name": "python"
    }
  },
  "cells": [
    {
      "cell_type": "markdown",
      "source": [
        "#Практическое упражнение\n",
        "\n",
        "1. Создайте репозиторий в своем Github.\n",
        "2. Склонируйте репозиторий на локальный компьютер для дальнейшей работы.\n",
        "3. Скачайте данный ноутбук и выполните задание (можно в Colab).\n",
        "4. Положите готовый ноутбук в проект и закомитьте изменения (в т.ч. залейте изменения в репозиторий Github)."
      ],
      "metadata": {
        "id": "f8TS6QSGMj4G"
      }
    },
    {
      "cell_type": "markdown",
      "metadata": {
        "id": "4_iKSgoL5MhM"
      },
      "source": [
        "###Задача 1\n",
        "Имеется последовательность кодирующей цепочки ДНК `aagaatgtatatgtctgacacgttagcctggtgactaagtagtaatactcaatgggcggttaaagcgc`. \n",
        "\n",
        "1) выведите количество символов"
      ]
    },
    {
      "cell_type": "code",
      "source": [
        "seq = 'aagaatgtatatgtctgacacgttagcctggtgactaagtagtaatactcaatgggcggttaaagcgc'\n",
        "print(len(seq))"
      ],
      "metadata": {
        "id": "fB7V-Pl9OOnq",
        "colab": {
          "base_uri": "https://localhost:8080/"
        },
        "outputId": "5d4c6bc9-9842-4b6c-f2b3-785d02eafc39"
      },
      "execution_count": 52,
      "outputs": [
        {
          "output_type": "stream",
          "name": "stdout",
          "text": [
            "68\n"
          ]
        }
      ]
    },
    {
      "cell_type": "markdown",
      "metadata": {
        "id": "sYfvnAvM6VIX"
      },
      "source": [
        "2) выведите символы в последовательности начиная с 2 по 15"
      ]
    },
    {
      "cell_type": "code",
      "source": [
        "print(seq[2:15])"
      ],
      "metadata": {
        "id": "bnfi1PBFOPD3",
        "colab": {
          "base_uri": "https://localhost:8080/"
        },
        "outputId": "d53fbb1c-de85-44d8-d84c-ca4501af21d5"
      },
      "execution_count": 53,
      "outputs": [
        {
          "output_type": "stream",
          "name": "stdout",
          "text": [
            "gaatgtatatgtc\n"
          ]
        }
      ]
    },
    {
      "cell_type": "markdown",
      "metadata": {
        "id": "4xIXQB8w6ZJE"
      },
      "source": [
        "3) выведите последовательность в обратном порядке"
      ]
    },
    {
      "cell_type": "code",
      "execution_count": 54,
      "metadata": {
        "id": "FyRjV6-LLYEc",
        "colab": {
          "base_uri": "https://localhost:8080/"
        },
        "outputId": "f0824bc7-9e58-49fb-d126-75f64c8eb611"
      },
      "outputs": [
        {
          "output_type": "stream",
          "name": "stdout",
          "text": [
            "cgcgaaattggcgggtaactcataatgatgaatcagtggtccgattgcacagtctgtatatgtaagaa\n"
          ]
        }
      ],
      "source": [
        "print(seq[::-1])"
      ]
    },
    {
      "cell_type": "markdown",
      "metadata": {
        "id": "mCtj_VJurcNh"
      },
      "source": [
        "4) найдите количество вхождения каждого нуклеотида в последовательность"
      ]
    },
    {
      "cell_type": "code",
      "source": [
        "bases = {name: 0 for name in 'atgc'}\n",
        "for base in seq:\n",
        "  if base == 'a':\n",
        "    bases[base] +=1\n",
        "  elif base == 't':\n",
        "    bases[base] += 1\n",
        "  elif base == 'g':\n",
        "    bases[base] += 1\n",
        "  else:\n",
        "    bases[base] += 1\n",
        "\n",
        "for base in bases:\n",
        "  print(f\"{base} = {bases[base]}\")\n"
      ],
      "metadata": {
        "id": "fmP3b8OJOyWm",
        "colab": {
          "base_uri": "https://localhost:8080/"
        },
        "outputId": "1e08a17b-495a-4216-f16c-b3e0faa32031"
      },
      "execution_count": 55,
      "outputs": [
        {
          "output_type": "stream",
          "name": "stdout",
          "text": [
            "a = 21\n",
            "t = 18\n",
            "g = 18\n",
            "c = 11\n"
          ]
        }
      ]
    },
    {
      "cell_type": "markdown",
      "metadata": {
        "id": "NuB8szC26rGN"
      },
      "source": [
        "###Задача 2\n",
        "Имеется последовательность кодирующей цепочки ДНК `acgttaattagcagctgacggagtaatccccaaacctggagacgatgtat`.\n",
        "\n",
        "1) Создайте словарь транскрипции нуклеотидов ДНК в РНК"
      ]
    },
    {
      "cell_type": "code",
      "source": [
        "seq = 'acgttaattagcagctgacggagtaatccccaaacctggagacgatgtat'\n",
        "trans_dict = {dna: rna for dna, rna in zip('atgc', 'uacg')}\n",
        "print(trans_dict)"
      ],
      "metadata": {
        "id": "QZuFzhqyOW-l",
        "colab": {
          "base_uri": "https://localhost:8080/"
        },
        "outputId": "b6fb1d6c-a05c-4bcd-ad61-beb175005ef3"
      },
      "execution_count": 56,
      "outputs": [
        {
          "output_type": "stream",
          "name": "stdout",
          "text": [
            "{'a': 'u', 't': 'a', 'g': 'c', 'c': 'g'}\n"
          ]
        }
      ]
    },
    {
      "cell_type": "markdown",
      "metadata": {
        "id": "K3lXVQkj7Yyp"
      },
      "source": [
        "2) Найдите последовательность РНК, которая образуется в результате транскрипции"
      ]
    },
    {
      "cell_type": "code",
      "source": [
        "rna_seq = ''\n",
        "for base in seq:\n",
        "  rna_seq += trans_dict[base]\n",
        "\n",
        "print(rna_seq)\n"
      ],
      "metadata": {
        "id": "DCe_LUwROXS9",
        "colab": {
          "base_uri": "https://localhost:8080/"
        },
        "outputId": "aeeb8eda-13f9-44a3-c70a-997b196a62f5"
      },
      "execution_count": 57,
      "outputs": [
        {
          "output_type": "stream",
          "name": "stdout",
          "text": [
            "ugcaauuaaucgucgacugccucauuagggguuuggaccucugcuacaua\n"
          ]
        }
      ]
    },
    {
      "cell_type": "markdown",
      "metadata": {
        "id": "jxHxzn-ZqX9x"
      },
      "source": [
        "###Задача 3\n",
        "Выведите все четные числа из списка \n",
        "\n",
        "```\n",
        "numbers = [    \n",
        "    386, 462, 47, 418, 907, 344, 236, 375, 823, 566, 597, 978, 328, 615, 953, 345, \n",
        "    399, 162, 758, 219, 918, 237, 412, 566, 826, 248, 866, 950, 626, 949, 687, 217, \n",
        "    815, 67, 104, 58, 512, 24, 892, 894, 767, 553, 81, 379, 843, 831, 445, 742, 717, \n",
        "    958,743, 527\n",
        "    ]\n",
        "```\n",
        "\n",
        "в том же порядке, прекратите вывод, как только любое из чисел будет меньше 237"
      ]
    },
    {
      "cell_type": "code",
      "source": [
        "result = []\n",
        "numbers = [    \n",
        "    386, 462, 47, 418, 907, 344, 236, 375, 823, 566, 597, 978, 328, 615, 953, 345, \n",
        "    399, 162, 758, 219, 918, 237, 412, 566, 826, 248, 866, 950, 626, 949, 687, 217, \n",
        "    815, 67, 104, 58, 512, 24, 892, 894, 767, 553, 81, 379, 843, 831, 445, 742, 717, \n",
        "    958,743, 527\n",
        "    ]\n",
        "for num in numbers:\n",
        "  if num < 237:\n",
        "    break\n",
        "  elif num % 2 == 0:\n",
        "    result.append(num)\n",
        "  \n",
        "print(*result)"
      ],
      "metadata": {
        "id": "v4vWigO_PN3x",
        "colab": {
          "base_uri": "https://localhost:8080/"
        },
        "outputId": "ab1fafad-0ed0-4e10-d189-fe2b665c43b4"
      },
      "execution_count": 58,
      "outputs": [
        {
          "output_type": "stream",
          "name": "stdout",
          "text": [
            "386 462\n"
          ]
        }
      ]
    },
    {
      "cell_type": "markdown",
      "metadata": {
        "id": "BZUnNYScmCRD"
      },
      "source": [
        "###Задача 4\n",
        "Напишите программу, которая удалит дубликаты из списка"
      ]
    },
    {
      "cell_type": "code",
      "metadata": {
        "id": "bj2evCuumEnz"
      },
      "source": [
        "test_list=['Eeny', 'meeny', 'miney', 'moe', 'Catch', 'a', 'tiger', 'by', 'his', 'toe', 'If', 'he', 'squeals', 'let', 'him', 'go', 'Eeny', 'meeny', 'miney', 'moe']"
      ],
      "execution_count": 23,
      "outputs": []
    },
    {
      "cell_type": "code",
      "source": [
        "test_dict = dict()\n",
        "for name in test_list:\n",
        "  if name in test_dict:\n",
        "    test_dict[name] += 1\n",
        "  else: test_dict[name] = 1\n",
        "\n",
        "result = []\n",
        "\n",
        "for name in test_dict:\n",
        "  if test_dict[name] == 1:\n",
        "    result.append(name)\n",
        "print(result)\n"
      ],
      "metadata": {
        "id": "_nS3qTKhPY80",
        "colab": {
          "base_uri": "https://localhost:8080/"
        },
        "outputId": "706a8840-afcc-4432-b5bd-c8d0aeb52b71"
      },
      "execution_count": 59,
      "outputs": [
        {
          "output_type": "stream",
          "name": "stdout",
          "text": [
            "['Catch', 'a', 'tiger', 'by', 'his', 'toe', 'If', 'he', 'squeals', 'let', 'him', 'go']\n"
          ]
        }
      ]
    },
    {
      "cell_type": "markdown",
      "metadata": {
        "id": "VZEJYMjUpJCQ"
      },
      "source": [
        "###Задача 5\n",
        "Сложите значения в словарях, согласно ключам\n",
        "\n",
        "```\n",
        "d1 = {'a': 100, 'b': 200, 'c':300}\n",
        "d2 = {'a': 300, 'b': 200, 'd':400}\n",
        "\n",
        "Ожидаемый результат: {'a': 400, 'b': 400, 'd': 400, 'c': 300}\n",
        "```\n"
      ]
    },
    {
      "cell_type": "code",
      "source": [
        "d1 = {'a': 100, 'b': 200, 'c':300}\n",
        "d2 = {'a': 300, 'b': 200, 'd':400}\n",
        "\n",
        "result = dict()\n",
        "used = set()\n",
        "\n",
        "for key1 in d1:\n",
        "  if key1 in used:\n",
        "    continue\n",
        "  elif key1 in d2:\n",
        "      result[key1] = d1[key1] + d2[key1]\n",
        "      used.add(key1)\n",
        "  else:\n",
        "    result[key1] = d1[key1]\n",
        "  \n",
        "\n",
        "for key2 in d2:\n",
        "  if key2 not in used:\n",
        "    result[key2] = d2[key2]\n",
        "\n",
        "print(result)"
      ],
      "metadata": {
        "id": "LXMrGttHPeEh",
        "colab": {
          "base_uri": "https://localhost:8080/"
        },
        "outputId": "6b8d9b4b-6ff1-4e02-98b9-8b3a09da80b2"
      },
      "execution_count": 51,
      "outputs": [
        {
          "output_type": "stream",
          "name": "stdout",
          "text": [
            "{'a': 400, 'b': 400, 'c': 300, 'd': 400}\n"
          ]
        }
      ]
    },
    {
      "cell_type": "markdown",
      "source": [
        "###Задача 6\n",
        "Имеется последовательность кодирующей цепочки ДНК `aagaatgtatatgtctgacacgttagcctggtgactaagtagtaatactcaatgggcggttaaagcgc`.\n",
        "\n",
        "Напишите функцию, которая будет принимать один параметр на вход - последовательность ДНК в виде строки, и возвращать количество вхождения каждого нуклеотида в нее в виде словаря."
      ],
      "metadata": {
        "id": "bmU7ngzdPx1m"
      }
    },
    {
      "cell_type": "code",
      "source": [
        "def foo(seq):\n",
        "  bases = {name: 0 for name in 'atgc'}\n",
        "  for base in seq:\n",
        "    if base == 'a':\n",
        "      bases[base] +=1\n",
        "    elif base == 't':\n",
        "      bases[base] += 1\n",
        "    elif base == 'g':\n",
        "     bases[base] += 1\n",
        "    else:\n",
        "      bases[base] += 1\n",
        "  return bases\n",
        "\n",
        "print(foo('atttgc'))\n"
      ],
      "metadata": {
        "id": "K8t3hIdcQDrY",
        "colab": {
          "base_uri": "https://localhost:8080/"
        },
        "outputId": "708d020a-5603-4871-aed9-c94bf5256d41"
      },
      "execution_count": 60,
      "outputs": [
        {
          "output_type": "stream",
          "name": "stdout",
          "text": [
            "{'a': 1, 't': 3, 'g': 1, 'c': 1}\n"
          ]
        }
      ]
    }
  ]
}