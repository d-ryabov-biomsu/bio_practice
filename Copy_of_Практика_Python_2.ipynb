{
  "nbformat": 4,
  "nbformat_minor": 0,
  "metadata": {
    "colab": {
      "name": "Copy of Практика_Python_2.ipynb",
      "provenance": [],
      "collapsed_sections": []
    },
    "kernelspec": {
      "name": "python3",
      "display_name": "Python 3"
    },
    "language_info": {
      "name": "python"
    }
  },
  "cells": [
    {
      "cell_type": "markdown",
      "source": [
        "#Практическое упражнение 2\n",
        "\n",
        "1. качайте данный ноутбук и выполните задание (можно в Colab).\n",
        "2. Положите готовый ноутбук в проект и закомитьте изменения (в т.ч. залейте изменения в репозиторий Github)."
      ],
      "metadata": {
        "id": "f8TS6QSGMj4G"
      }
    },
    {
      "cell_type": "markdown",
      "metadata": {
        "id": "ZtT5F5fiizh3"
      },
      "source": [
        "###Задача 1\n",
        "\n",
        "Разделите строку `'We interrupt this program to annoy you and make things generally more irritating'` по пробелам на список строк и объедините эти слова назад в строку но вместо пробела используйте символ '`_`'"
      ]
    },
    {
      "cell_type": "code",
      "source": [
        "string = 'We interrupt this program to annoy you and make things generally more irritating'\n",
        "split_string = string.split()\n",
        "new_string = '_'.join(split_string)\n",
        "print(split_string, new_string, sep='\\n')"
      ],
      "metadata": {
        "id": "0C98G7bJANNX",
        "outputId": "8f88db58-29e5-4d01-a01a-102c8a134084",
        "colab": {
          "base_uri": "https://localhost:8080/"
        }
      },
      "execution_count": null,
      "outputs": [
        {
          "output_type": "stream",
          "name": "stdout",
          "text": [
            "['We', 'interrupt', 'this', 'program', 'to', 'annoy', 'you', 'and', 'make', 'things', 'generally', 'more', 'irritating']\n",
            "We_interrupt_this_program_to_annoy_you_and_make_things_generally_more_irritating\n"
          ]
        }
      ]
    },
    {
      "cell_type": "markdown",
      "source": [
        "###Задача 2\n",
        "\n",
        "Имеется последовательность кодирующей цепочки ДНК `caggatgtatatatctgacacgttaacctggagactagggagtaatccccaattggcggttaaaacgc`. \n",
        "\n",
        "Выведите символы в последовательности начиная с 10 по 20. \n",
        "\n",
        "Создайте новую последовательность путем утроения этого участка. (пример: из последовательности `tgcct` получится последовательность `tgccttgccttgcct`)\n",
        "\n",
        "Выведите результат в обратном порядке"
      ],
      "metadata": {
        "id": "hQ1o4NXuBGcZ"
      }
    },
    {
      "cell_type": "code",
      "source": [
        "seq = 'caggatgtatatatctgacacgttaacctggagactagggagtaatccccaattggcggttaaaacgc'\n",
        "print(seq[9:20])\n",
        "new_seq = seq*3\n",
        "print(new_seq[::-1])"
      ],
      "metadata": {
        "id": "JS_UzejYBKPf",
        "outputId": "b7f315ec-18a0-4521-c00f-15b0eac2e2a2",
        "colab": {
          "base_uri": "https://localhost:8080/"
        }
      },
      "execution_count": 33,
      "outputs": [
        {
          "output_type": "stream",
          "name": "stdout",
          "text": [
            "tatatctgaca\n",
            "cgcaaaattggcggttaacccctaatgagggatcagaggtccaattgcacagtctatatatgtaggaccgcaaaattggcggttaacccctaatgagggatcagaggtccaattgcacagtctatatatgtaggaccgcaaaattggcggttaacccctaatgagggatcagaggtccaattgcacagtctatatatgtaggac\n"
          ]
        }
      ]
    },
    {
      "cell_type": "markdown",
      "metadata": {
        "id": "HpIPGWV7YRBV"
      },
      "source": [
        "###Задача 3\n",
        "\n",
        "1) Найдите сайты рестрикции Hpa I (`GTT|AAC`) в последовательности ДНК `'caggatgtatatatctgacacgttaacctggagactagggagtaatccccaattggcggttaaaacgc'`, не забудьте про комплементарную цепь ДНК. Выведите позиции по которым ДНК будет разрезана."
      ]
    },
    {
      "cell_type": "code",
      "source": [
        "def compl(dna):\n",
        "  comp_dic = {dna1: comp for dna1, comp in zip('atgc', 'tacg')}\n",
        "  comp = ''\n",
        "  for nuc in dna:\n",
        "    comp += comp_dic[nuc]\n",
        "  return comp\n",
        "\n",
        "dna = 'caggatgtatatatctgacacgttaacctggagactagggagtaatccccaattggcggttaaaacgc'\n",
        "site = int(dna.find('gttaac')) + 3 \n",
        "print(site, 'номер нуклеотида')\n"
      ],
      "metadata": {
        "id": "44ltKujnBZWF",
        "colab": {
          "base_uri": "https://localhost:8080/"
        },
        "outputId": "b23827c9-e50b-4e93-ef40-0bcd0300bafb"
      },
      "execution_count": 79,
      "outputs": [
        {
          "output_type": "stream",
          "name": "stdout",
          "text": [
            "24 номер нуклеотида\n"
          ]
        }
      ]
    },
    {
      "cell_type": "markdown",
      "source": [
        "2) Выведите получившиеся олигонуклеотиды после рестрикции."
      ],
      "metadata": {
        "id": "i81CDhpkBi9J"
      }
    },
    {
      "cell_type": "code",
      "source": [
        "res_dna1, res_dna2 = dna[:site], dna[site:]\n",
        "res_compl1, res_compl2 = compl(res_dna1), compl(res_dna2)\n",
        "print(res_dna1, res_dna2, res_compl1, res_compl2, sep='\\n')"
      ],
      "metadata": {
        "id": "3z3pYlNzBkRd",
        "colab": {
          "base_uri": "https://localhost:8080/"
        },
        "outputId": "4e13743c-8e7a-4ef0-cba7-803cb8c4f5d5"
      },
      "execution_count": 78,
      "outputs": [
        {
          "output_type": "stream",
          "name": "stdout",
          "text": [
            "caggatgtatatatctgacacgtt\n",
            "aacctggagactagggagtaatccccaattggcggttaaaacgc\n",
            "gtcctacatatatagactgtgcaa\n",
            "ttggacctctgatccctcattaggggttaaccgccaattttgcg\n"
          ]
        }
      ]
    },
    {
      "cell_type": "markdown",
      "metadata": {
        "id": "bUbMEI-toWkZ"
      },
      "source": [
        "###Задача 4\n",
        "\n",
        "Напишите код, который расчитает сумму всех ключей и значений без использования цикла (ключи и значения могут быть и другими!!!).\n",
        "\n",
        "```\n",
        "dic1={1:10, 2:20}\n",
        "dic2={3:30, 4:40}\n",
        "dic3={5:50, 6:60}\n",
        "\n",
        "Ожидаемый результат строка: 'Sum of keys = 21, sum of values = 210'\n",
        "```"
      ]
    },
    {
      "cell_type": "code",
      "source": [
        "dic1={1:10, 2:20}\n",
        "dic2={3:30, 4:40}\n",
        "dic3={5:50, 6:60}\n",
        "sum_keys = sum(dic1.keys()) + sum(dic2.keys()) + sum(dic3.keys())\n",
        "sum_val = sum(dic1.values()) + sum(dic2.values()) + sum(dic3.values())\n",
        "print(f'sum of_keys = {sum_keys}, sum of values = {sum_val}')"
      ],
      "metadata": {
        "id": "-_55h-_qDljV",
        "outputId": "bb810494-73d6-4fe2-96c7-75ce1dda4881",
        "colab": {
          "base_uri": "https://localhost:8080/"
        }
      },
      "execution_count": null,
      "outputs": [
        {
          "output_type": "stream",
          "name": "stdout",
          "text": [
            "sum of_keys = 21, sum of values = 210\n"
          ]
        }
      ]
    },
    {
      "cell_type": "markdown",
      "source": [
        "###Задача 5\n",
        "\n",
        "Напишите функцию, которая на вход будет принимать список, а возвращать список (типа list) уникальных элементов"
      ],
      "metadata": {
        "id": "yghEPTXkD0Dt"
      }
    },
    {
      "cell_type": "code",
      "source": [
        "a = [1, 2, 3, 3, 5]\n",
        "def foo(a):\n",
        "  new_list = [elem for elem in a if a.count(elem) == 1]\n",
        "  return new_list\n",
        "  \n",
        "print(foo(a))"
      ],
      "metadata": {
        "id": "-orwK2mUEeOk",
        "outputId": "7d5e7599-3962-4215-a65c-5af2213aaa0a",
        "colab": {
          "base_uri": "https://localhost:8080/"
        }
      },
      "execution_count": null,
      "outputs": [
        {
          "output_type": "stream",
          "name": "stdout",
          "text": [
            "[1, 2, 5]\n"
          ]
        }
      ]
    },
    {
      "cell_type": "markdown",
      "source": [
        "###Задача 6\n",
        "Есть данные о температуре по Фарингейту для разных стран за последние 7 дней в виде словаря:\n",
        "\n",
        "```\n",
        "countries_temperature = {'Thailand': [75.2, 77, 78.8, 73.4, 68, 75.2, 77],\n",
        "                         'Germany': [57.2, 55.4, 59, 59, 53.6, 54, 55.2],\n",
        "                         'Russia': [35.6, 37.4, 39.2, 41, 42.8, 39.2, 38],\n",
        "                         'Poland': [50, 50, 53.6, 57.2, 55.4, 55.4, 54.8]}\n",
        "```\n",
        "\n",
        "Необходимо расчитать для каждой страны среднюю температуру в **Цельсиях**.\n",
        "\n",
        "Результат выведите в следующем виде:\n",
        "\n",
        "```\n",
        "Средняя температура в странах:\n",
        "Thailand - ... С\n",
        "Germany - ... С\n",
        "Russia - ... С\n",
        "Poland - ... С\n",
        "```"
      ],
      "metadata": {
        "id": "seFMJwoInweM"
      }
    },
    {
      "cell_type": "code",
      "source": [
        "def mean(a):\n",
        "  return sum(a) / len(a)\n",
        "\n",
        "def into_c(num):\n",
        "  f = (num - 32) * 5. / 9\n",
        "  return f\n",
        "\n",
        "countries_temperature = {'Thailand': [75.2, 77, 78.8, 73.4, 68, 75.2, 77],\n",
        "                         'Germany': [57.2, 55.4, 59, 59, 53.6, 54, 55.2],\n",
        "                         'Russia': [35.6, 37.4, 39.2, 41, 42.8, 39.2, 38],\n",
        "                         'Poland': [50, 50, 53.6, 57.2, 55.4, 55.4, 54.8]}\n",
        "          \n",
        "for country in countries_temperature:\n",
        "  print(f'{country} - {into_c(mean(countries_temperature[country]))} C')"
      ],
      "metadata": {
        "id": "NwnZdXdmF2sD",
        "outputId": "129c6b7f-c230-4161-9ec8-de798e34a017",
        "colab": {
          "base_uri": "https://localhost:8080/"
        }
      },
      "execution_count": 80,
      "outputs": [
        {
          "output_type": "stream",
          "name": "stdout",
          "text": [
            "Thailand - 23.85714285714285 C\n",
            "Germany - 13.444444444444441 C\n",
            "Russia - 3.904761904761903 C\n",
            "Poland - 12.095238095238093 C\n"
          ]
        }
      ]
    },
    {
      "cell_type": "markdown",
      "source": [
        "### Задача 7\n",
        "\n",
        "1) Скачайте файл"
      ],
      "metadata": {
        "id": "lGvulTLfFieA"
      }
    },
    {
      "cell_type": "code",
      "source": [
        "! gdown --id 1hLhmP6H2WmN8WWT7wk-GHTaXUmUQqYWx"
      ],
      "metadata": {
        "id": "1lW2rz4tIlST",
        "outputId": "eadf3259-f7cf-4a45-b7ee-fdc69f1f3e65",
        "colab": {
          "base_uri": "https://localhost:8080/"
        }
      },
      "execution_count": 21,
      "outputs": [
        {
          "output_type": "stream",
          "name": "stdout",
          "text": [
            "/usr/local/lib/python3.7/dist-packages/gdown/cli.py:131: FutureWarning: Option `--id` was deprecated in version 4.3.1 and will be removed in 5.0. You don't need to pass it anymore to use a file ID.\n",
            "  category=FutureWarning,\n",
            "Downloading...\n",
            "From: https://drive.google.com/uc?id=1hLhmP6H2WmN8WWT7wk-GHTaXUmUQqYWx\n",
            "To: /content/histone_variants.fasta\n",
            "100% 1.64k/1.64k [00:00<00:00, 2.48MB/s]\n"
          ]
        }
      ]
    },
    {
      "cell_type": "markdown",
      "source": [
        "2) Прочитайте его и разделите на отдельные последовательности\n",
        "\n",
        "Пример вывода одной последовательности:\n",
        "\n",
        "\n",
        "\n",
        "```\n",
        "NP_172363.1|arabidopsis|H2A.X\n",
        "MSTGAGSGTTKGGRGKPKATKSVSRSSKAGLQFPVGRIARFLKSGKYAERVGAGAPVYLS\n",
        "AVLEYLAAEVLELAGNAARDNKKTRIVPRHIQLAVRNDEELSKLLGSVTIANGGVLPNIH\n",
        "QTLLPSKVGKNKGDIGSASQEF\n",
        "```\n",
        "\n",
        "*Примечание*: далее \"шапкой\" буду назвывать текст вида \"NP_172363.1|arabidopsis|H2A.X\", из них \"NP_172363.1\" - accession, \"arabidopsis|H2A.X\" - escription.\n"
      ],
      "metadata": {
        "id": "1WRo8H3OJBdw"
      }
    },
    {
      "cell_type": "code",
      "source": [
        "\n",
        "from Bio import SeqIO\n",
        "\n",
        "\n",
        "with open('histone_variants.fasta') as file_input:\n",
        "  for record in SeqIO.parse(file_input, 'fasta'):\n",
        "    print(record.format('fasta'))"
      ],
      "metadata": {
        "id": "t8-oypKLImwf",
        "colab": {
          "base_uri": "https://localhost:8080/",
          "height": 376
        },
        "outputId": "8d974050-05e6-4d33-80e1-c616a107a74e"
      },
      "execution_count": 34,
      "outputs": [
        {
          "output_type": "error",
          "ename": "ModuleNotFoundError",
          "evalue": "ignored",
          "traceback": [
            "\u001b[0;31m---------------------------------------------------------------------------\u001b[0m",
            "\u001b[0;31mModuleNotFoundError\u001b[0m                       Traceback (most recent call last)",
            "\u001b[0;32m<ipython-input-34-0e3c0ac4a5c4>\u001b[0m in \u001b[0;36m<module>\u001b[0;34m()\u001b[0m\n\u001b[0;32m----> 1\u001b[0;31m \u001b[0;32mfrom\u001b[0m \u001b[0mBio\u001b[0m \u001b[0;32mimport\u001b[0m \u001b[0mSeqIO\u001b[0m\u001b[0;34m\u001b[0m\u001b[0;34m\u001b[0m\u001b[0m\n\u001b[0m\u001b[1;32m      2\u001b[0m \u001b[0;34m\u001b[0m\u001b[0m\n\u001b[1;32m      3\u001b[0m \u001b[0;34m\u001b[0m\u001b[0m\n\u001b[1;32m      4\u001b[0m \u001b[0;32mwith\u001b[0m \u001b[0mopen\u001b[0m\u001b[0;34m(\u001b[0m\u001b[0;34m'histone_variants.fasta'\u001b[0m\u001b[0;34m)\u001b[0m \u001b[0;32mas\u001b[0m \u001b[0mfile_input\u001b[0m\u001b[0;34m:\u001b[0m\u001b[0;34m\u001b[0m\u001b[0;34m\u001b[0m\u001b[0m\n\u001b[1;32m      5\u001b[0m   \u001b[0;32mfor\u001b[0m \u001b[0mrecord\u001b[0m \u001b[0;32min\u001b[0m \u001b[0mSeqIO\u001b[0m\u001b[0;34m.\u001b[0m\u001b[0mparse\u001b[0m\u001b[0;34m(\u001b[0m\u001b[0mfile_input\u001b[0m\u001b[0;34m,\u001b[0m \u001b[0;34m'fasta'\u001b[0m\u001b[0;34m)\u001b[0m\u001b[0;34m:\u001b[0m\u001b[0;34m\u001b[0m\u001b[0;34m\u001b[0m\u001b[0m\n",
            "\u001b[0;31mModuleNotFoundError\u001b[0m: No module named 'Bio'",
            "",
            "\u001b[0;31m---------------------------------------------------------------------------\u001b[0;32m\nNOTE: If your import is failing due to a missing package, you can\nmanually install dependencies using either !pip or !apt.\n\nTo view examples of installing some common dependencies, click the\n\"Open Examples\" button below.\n\u001b[0;31m---------------------------------------------------------------------------\u001b[0m\n"
          ],
          "errorDetails": {
            "actions": [
              {
                "action": "open_url",
                "actionText": "Open Examples",
                "url": "/notebooks/snippets/importing_libraries.ipynb"
              }
            ]
          }
        }
      ]
    },
    {
      "cell_type": "markdown",
      "source": [
        "или можно распарсить вручную"
      ],
      "metadata": {
        "id": "GDhx9yrGgUKA"
      }
    },
    {
      "cell_type": "code",
      "source": [
        "file = open('histone_variants.fasta')\n",
        "seqs = [seq for seq in file.read().split('>') if seq]\n",
        "print(seqs)\n",
        "\n",
        "for seq in seqs:\n",
        "  print(seq)\n",
        "\n"
      ],
      "metadata": {
        "id": "aBjrFFFrgcAd"
      },
      "execution_count": null,
      "outputs": []
    },
    {
      "cell_type": "markdown",
      "source": [
        "3) Ввыведите все accession-ы последовательностей"
      ],
      "metadata": {
        "id": "WrRBY5HNJT0g"
      }
    },
    {
      "cell_type": "code",
      "source": [
        "for seq in seqs:\n",
        "  doc_str = seq.split('\\n')[0]\n",
        "  acs = doc_str.split('|')[0]\n",
        "  print(acs)"
      ],
      "metadata": {
        "id": "rwzHD1tVJZnx",
        "outputId": "368b7bbf-44a8-4ce7-cfab-19a149bd3386",
        "colab": {
          "base_uri": "https://localhost:8080/"
        }
      },
      "execution_count": 76,
      "outputs": [
        {
          "output_type": "stream",
          "name": "stdout",
          "text": [
            "NP_172363.1\n",
            "NP_175517.1\n",
            "NP_175683.1\n",
            "NP_175868.1\n",
            "XP_001119899.1\n",
            "XP_002913536.1\n",
            "XP_002927211.1\n",
            "XP_011215272.1\n",
            "XP_011215280.1\n",
            "XP_624700.1\n"
          ]
        }
      ]
    },
    {
      "cell_type": "markdown",
      "source": [
        "4) Напишите генератор, который на вход принимает список последовательностей того же вида, что в пункте 2), а возвращать итератор accessions.\n",
        "\n",
        "*Примечание*: используйте здесь yeild вместо return"
      ],
      "metadata": {
        "id": "coOs8d_xLHgq"
      }
    },
    {
      "cell_type": "code",
      "source": [
        "def gen(input):\n",
        "  for seq in input:\n",
        "    doc_str = seq.split('\\n')[0]\n",
        "    acs = doc_str.split('|')[0]\n",
        "    yield acs \n",
        "\n",
        "print(list(gen([\"\"\">NP_175868.1|arabidopsis|H2A.X \n",
        " MSGKGAKGLIMGKPSGSDKDKDKKKPITRSSRAGLQFPVGRVHRLLKTRSTAHGRVGATA\n",
        "AVYTAAILEYLTAEVLELAGNASKDLKVKRISPRHLQLAIRGDEELDTLIKGTIAGGGVI\n",
        "PHIHKSLINKSAKE\"\"\",\n",
        "\"\"\">XP_001119899.1|apis|canonical_H2A \n",
        " MSSGAGSGTTKGGRGKPKATKSVSRSSKAGLQFPVGRIARFLKAGKYAERVGAGAPVYLS\n",
        "AVLEYLAAEVLELAGNAARDNKKTRIVPRHIQLAVRNDEELSKLLGSVTIANGGVLPNIH\n",
        "QTLLPSKVGKNKGDIGSASQEF\"\"\",\n",
        "\"\"\">XP_002913536.1|ailuropoda|H2A.P \n",
        " MSGRGKGGKAKAKAKSRSNRAGLQFPVGRIHRLLRKGNYAERVGAGAPVYLAAVMEYLAA\n",
        "EVLELAGNAARDNKKTRIIPRHLQLAIRNDEELNKLLSGVTIAQGGVLPNIQAVLLPKKT\n",
        "EKKA\"\"\"])))"
      ],
      "metadata": {
        "id": "lHMuk5K5LI45",
        "outputId": "0d0d34bc-4ccf-4f85-f402-ea05a867b42a",
        "colab": {
          "base_uri": "https://localhost:8080/"
        }
      },
      "execution_count": 28,
      "outputs": [
        {
          "output_type": "stream",
          "name": "stdout",
          "text": [
            "['>NP_175868.1', '>XP_001119899.1', '>XP_002913536.1']\n"
          ]
        }
      ]
    },
    {
      "cell_type": "markdown",
      "source": [
        "5) Напишите функцию, которая на вход будет принимать 2 параметра:\n",
        "- последовательность вместе с \"шапкой\" (accession и описание)\n",
        "- разделитель (по умолчанию '|')\n",
        "\n",
        "и возвращать объект типа tuple (accession, description, sequence)"
      ],
      "metadata": {
        "id": "ATVMLFChJaPn"
      }
    },
    {
      "cell_type": "code",
      "source": [
        "def foo(seq, sep='|'):\n",
        "  doc_list = seq.split('\\n')[0].split(sep, 1)\n",
        "  acs, des = doc_list[0][1:], ''.join(doc_list[1:])\n",
        "  seqs = ''.join(seq.split('\\n')[1:])\n",
        "  return acs, des, seqs\n",
        "\n",
        "print(foo(\"\"\">NP_175868.1|arabidopsis|H2A.X \n",
        " MSGKGAKGLIMGKPSGSDKDKDKKKPITRSSRAGLQFPVGRVHRLLKTRSTAHGRVGATA\n",
        "AVYTAAILEYLTAEVLELAGNASKDLKVKRISPRHLQLAIRGDEELDTLIKGTIAGGGVI\n",
        "PHIHKSLINKSAKE\"\"\"))\n"
      ],
      "metadata": {
        "id": "tGDxvEtpKIIf",
        "outputId": "cc498341-0181-4c29-cb94-b8dc4510e9ea",
        "colab": {
          "base_uri": "https://localhost:8080/"
        }
      },
      "execution_count": 86,
      "outputs": [
        {
          "output_type": "stream",
          "name": "stdout",
          "text": [
            "('NP_175868.1', 'arabidopsis|H2A.X ', ' MSGKGAKGLIMGKPSGSDKDKDKKKPITRSSRAGLQFPVGRVHRLLKTRSTAHGRVGATAAVYTAAILEYLTAEVLELAGNASKDLKVKRISPRHLQLAIRGDEELDTLIKGTIAGGGVIPHIHKSLINKSAKE')\n"
          ]
        }
      ]
    },
    {
      "cell_type": "markdown",
      "source": [
        "6) Напишите функцию, которая на вход будет принимать 2 параметра:\n",
        "- последовательность вместе с \"шапкой\" (accession и описание)\n",
        "- разделитель (по умолчанию '|')\n",
        "\n",
        "и возвращать объект типа dict {'accession': ..., 'description': ..., 'sequence': ...}"
      ],
      "metadata": {
        "id": "oOw7-rMUKIj-"
      }
    },
    {
      "cell_type": "code",
      "source": [
        "def foo(seq, sep='|'):\n",
        "  doc_list = seq.split('\\n')[0].split(sep)\n",
        "  acs = doc_list[0]\n",
        "  des = ', '.join(doc_list[1:])\n",
        "  seqs = ''.join(seq.split('\\n')[1:])\n",
        "  res_dict = {'accession': acs,\n",
        "              'description': des,\n",
        "              'sequence': seqs}\n",
        "  return res_dict\n",
        "\n",
        "print(foo(\"\"\">NP_175868.1|arabidopsis|H2A.X \n",
        " MSGKGAKGLIMGKPSGSDKDKDKKKPITRSSRAGLQFPVGRVHRLLKTRSTAHGRVGATA\n",
        "AVYTAAILEYLTAEVLELAGNASKDLKVKRISPRHLQLAIRGDEELDTLIKGTIAGGGVI\n",
        "PHIHKSLINKSAKE\"\"\"))\n"
      ],
      "metadata": {
        "id": "TreSoOu0KUgh",
        "outputId": "7a996908-b2c4-49c5-c2ce-bf5f9f1eddcc",
        "colab": {
          "base_uri": "https://localhost:8080/"
        }
      },
      "execution_count": null,
      "outputs": [
        {
          "output_type": "stream",
          "name": "stdout",
          "text": [
            "{'accession': '>NP_175868.1', 'description': 'arabidopsis, H2A.X ', 'sequence': ' MSGKGAKGLIMGKPSGSDKDKDKKKPITRSSRAGLQFPVGRVHRLLKTRSTAHGRVGATAAVYTAAILEYLTAEVLELAGNASKDLKVKRISPRHLQLAIRGDEELDTLIKGTIAGGGVIPHIHKSLINKSAKE'}\n"
          ]
        }
      ]
    }
  ]
}