{
 "cells": [
  {
   "cell_type": "code",
   "execution_count": 357,
   "metadata": {},
   "outputs": [],
   "source": [
    "import pandas as pd\n",
    "from Bio import SeqIO\n",
    "from Bio.Align import MultipleSeqAlignment\n",
    "from Bio.Align.Applications import MuscleCommandline\n",
    "import os\n",
    "import numpy as np\n",
    "import subprocess\n",
    "from Bio.Align.AlignInfo import SummaryInfo\n",
    "from math import log2"
   ]
  },
  {
   "cell_type": "code",
   "execution_count": 358,
   "metadata": {},
   "outputs": [],
   "source": [
    "def new_histones(file_flag=None):\n",
    "    if file_flag == 'r' or file_flag is None:\n",
    "        h1 = open('new_histones/H1.fasta')\n",
    "        h2a = open('new_histones/H2A.fasta')\n",
    "        h2b = open('new_histones/H2B.fasta')\n",
    "        h3 = open('new_histones/H3.fasta')\n",
    "        h4 = open('new_histones/H4.fasta')\n",
    "    elif file_flag == 'w':\n",
    "        h1 = open('new_histones/H1.fasta', 'w')\n",
    "        h2a = open('new_histones/H2A.fasta', 'w')\n",
    "        h2b = open('new_histones/H2B.fasta', 'w')\n",
    "        h3 = open('new_histones/H3.fasta', 'w')\n",
    "        h4 = open('new_histones/H4.fasta', 'w')\n",
    "    else:\n",
    "        print('error')\n",
    "    files = [h1, h2a, h2b, h3, h4]\n",
    "    return files"
   ]
  },
  {
   "cell_type": "code",
   "execution_count": 359,
   "metadata": {},
   "outputs": [],
   "source": [
    "def new_alignments(file_flag=None):\n",
    "    if file_flag == 'r' or file_flag is None:\n",
    "        al_h1 = open('new_alignments/H1.fasta')\n",
    "        al_h2a = open('new_alignments/H2A.fasta')\n",
    "        al_h2b = open('new_alignments/H2B.fasta')\n",
    "        al_h3 = open('new_alignments/H3.fasta')\n",
    "        al_h4 = open('new_alignments/H4.fasta')\n",
    "    elif file_flag == 'w':\n",
    "        al_h1 = open('new_alignments/H1.fasta', 'w')\n",
    "        al_h2a = open('new_alignments/H2A.fasta', 'w')\n",
    "        al_h2b = open('new_alignments/H2B.fasta', 'w')\n",
    "        al_h3 = open('new_alignments/H3.fasta', 'w')\n",
    "        al_h4 = open('new_alignments/H4.fasta', 'w')\n",
    "    else:\n",
    "        print('error')\n",
    "    files = [al_h1, al_h2a, al_h2b, al_h3, al_h4]\n",
    "    return files"
   ]
  },
  {
   "cell_type": "code",
   "execution_count": 360,
   "metadata": {},
   "outputs": [],
   "source": [
    "def muscle_aln(accessions, options=[],debug = False):\n",
    "        \"\"\"\n",
    "        Align with muscle all sequences from defined accessions\n",
    "        accessions: list of accessions\n",
    "        :return: MultipleSeqAlignment object\n",
    "        \"\"\"\n",
    "\n",
    "        muscle = os.path.join(os.path.dirname(sys.executable), \"muscle\")\n",
    "        process = subprocess.Popen([muscle]+options, stdin=subprocess.PIPE, stdout=subprocess.PIPE, stderr=subprocess.PIPE)\n",
    "        \n",
    "        sequences = \"\\n\".join(accessions)\n",
    "        aln, error = process.communicate(sequences.encode('utf-8'))\n",
    "        if debug:\n",
    "            print(sequences)\n",
    "            print()\n",
    "            print(\"Stderr:\")\n",
    "            print(error.decode('utf-8')) \n",
    "            print(\"Stdout:\")\n",
    "            print(aln.decode('utf-8')) \n",
    "        seqFile = io.StringIO()\n",
    "        seqFile.write(aln.decode('utf-8'))\n",
    "        seqFile.seek(0)\n",
    "        sequences = list(SeqIO.parse(seqFile, \"fasta\"))  # Not in same order, but does it matter?\n",
    "        msa = MultipleSeqAlignment(sequences)\n",
    "        return msa"
   ]
  },
  {
   "cell_type": "code",
   "execution_count": null,
   "metadata": {},
   "outputs": [],
   "source": []
  },
  {
   "cell_type": "code",
   "execution_count": 361,
   "metadata": {},
   "outputs": [],
   "source": [
    "cons_list = []\n",
    "cons_file = open('consensus', 'w')\n",
    "his_types = ['H1', 'H2A', 'H2B', 'H3', 'H4']\n",
    "\n",
    "for his_type, file_in, file_out in zip(his_types, new_histones('r'), new_alignments('w')):\n",
    "    records = set([record.format('fasta') for record in SeqIO.parse(file_in, 'fasta')])\n",
    "    alignment = muscle_aln(records)\n",
    "    cons = SummaryInfo(alignment).dumb_consensus(ambiguous='-', threshold=0.1)\n",
    "    print(f'>{his_type}\\n{cons}', file=cons_file)\n",
    "    cons_list.append(cons)\n",
    "    AlignIO.write(alignment, file_out, 'fasta')\n",
    "    \n",
    "for file in new_alignments():\n",
    "    file.close()\n",
    "    \n",
    "cons_file.close()"
   ]
  },
  {
   "cell_type": "code",
   "execution_count": 351,
   "metadata": {},
   "outputs": [
    {
     "data": {
      "text/plain": [
       "[Seq('M-----EMAD-MEMMMSETAPVAA-AAAAP-MGEEEELPEEDEEEMEEDEEEDR...ESP', SingleLetterAlphabet()),\n",
       " Seq('MWLCDWAK----------K--D-N-ST---T----LLKVT-VSL-SP---MMMS...AN-', SingleLetterAlphabet()),\n",
       " Seq('MIPGKP----GS---P------A-DV---------MMPEAEKSPA-----E-SK...GCG', SingleLetterAlphabet()),\n",
       " Seq('MADDTPIIEEIAEQNESVTRIMQRLKHDMQRVTSVPGFNTSAAGV---------...GGT', SingleLetterAlphabet()),\n",
       " Seq('MFDVFGRDKGGKVLDKGRAKRHPKVLRGNIQGITKPAISRLARRSGVKRISGLI...FGG', SingleLetterAlphabet())]"
      ]
     },
     "execution_count": 351,
     "metadata": {},
     "output_type": "execute_result"
    }
   ],
   "source": [
    "cons_list"
   ]
  },
  {
   "cell_type": "code",
   "execution_count": null,
   "metadata": {},
   "outputs": [],
   "source": []
  },
  {
   "cell_type": "code",
   "execution_count": null,
   "metadata": {},
   "outputs": [],
   "source": [
    "      \n",
    "    "
   ]
  },
  {
   "cell_type": "code",
   "execution_count": null,
   "metadata": {},
   "outputs": [],
   "source": []
  },
  {
   "cell_type": "code",
   "execution_count": null,
   "metadata": {},
   "outputs": [],
   "source": []
  },
  {
   "cell_type": "code",
   "execution_count": null,
   "metadata": {},
   "outputs": [],
   "source": []
  }
 ],
 "metadata": {
  "kernelspec": {
   "display_name": "Python [conda env:moldyn]",
   "language": "python",
   "name": "conda-env-moldyn-py"
  },
  "language_info": {
   "codemirror_mode": {
    "name": "ipython",
    "version": 3
   },
   "file_extension": ".py",
   "mimetype": "text/x-python",
   "name": "python",
   "nbconvert_exporter": "python",
   "pygments_lexer": "ipython3",
   "version": "3.7.3"
  }
 },
 "nbformat": 4,
 "nbformat_minor": 4
}
